{
  "cells": [
    {
      "cell_type": "code",
      "execution_count": null,
      "id": "57203c0b",
      "metadata": {
        "id": "57203c0b"
      },
      "outputs": [],
      "source": [
        "from ultralytics import YOLO"
      ]
    },
    {
      "cell_type": "code",
      "execution_count": null,
      "id": "563aa971",
      "metadata": {
        "id": "563aa971"
      },
      "outputs": [],
      "source": [
        "model = YOLO('yolov8n.pt')"
      ]
    },
    {
      "cell_type": "code",
      "execution_count": null,
      "id": "2e790ff3",
      "metadata": {
        "id": "2e790ff3"
      },
      "outputs": [],
      "source": [
        "folder = \"../test/Task1\""
      ]
    },
    {
      "cell_type": "code",
      "execution_count": null,
      "id": "399d0278",
      "metadata": {
        "id": "399d0278"
      },
      "outputs": [],
      "source": [
        "import numpy as np\n",
        "import cv2 as cv\n",
        "import os\n",
        "import glob\n",
        "import matplotlib.pyplot as plt"
      ]
    },
    {
      "cell_type": "code",
      "execution_count": null,
      "id": "23701da0",
      "metadata": {
        "id": "23701da0"
      },
      "outputs": [],
      "source": [
        "images_train_list = glob.glob(folder + \"/*.jpg\")"
      ]
    },
    {
      "cell_type": "code",
      "execution_count": null,
      "id": "6c56671e",
      "metadata": {
        "id": "6c56671e"
      },
      "outputs": [],
      "source": [
        "images_train = np.zeros((50, 880, 1920, 3))\n",
        "\n",
        "for i in range(50):\n",
        "    images_train[i] = cv.imread(images_train_list[i])"
      ]
    },
    {
      "cell_type": "code",
      "execution_count": null,
      "id": "075e160d",
      "metadata": {
        "id": "075e160d"
      },
      "outputs": [],
      "source": [
        "dict_coord = {1: [[241,411], [402,386], [230,232], [140,262]],\n",
        "              2: [[406,395], [583,371], [373,159], [282,184]],\n",
        "              3: [[538,380], [680,364], [328,143], [283,171]],\n",
        "              4: [[1134,373], [1184,399], [1878,325], [1864,300]],\n",
        "              5: [[1188,398], [1239,421], [1883,354], [1869,329]],,\n",
        "              6: [[1290,441], [1197,393], [1589,333], [1647,392]],\n",
        "              7: [[1210,597], [1367,548], [1744,738], [1589,834]],\n",
        "              8: [[1396,875], [1027,616], [1191,564], [1652,837]],\n",
        "              9: [[957,689], [1195,876], [1396,819], [1176,651]]}"
      ]
    },
    {
      "cell_type": "code",
      "execution_count": null,
      "id": "7878e105",
      "metadata": {
        "id": "7878e105"
      },
      "outputs": [],
      "source": [
        "queries_files = glob.glob(\"../test/Task1/\" + \"*.txt\")"
      ]
    },
    {
      "cell_type": "code",
      "execution_count": null,
      "id": "a1df4787",
      "metadata": {
        "id": "a1df4787",
        "outputId": "234df276-89bd-4d2f-bc8b-e72f064a3086"
      },
      "outputs": [
        {
          "data": {
            "text/plain": [
              "['../test/Task1\\\\01_1_query.txt',\n",
              " '../test/Task1\\\\01_2_query.txt',\n",
              " '../test/Task1\\\\01_3_query.txt']"
            ]
          },
          "execution_count": 69,
          "metadata": {},
          "output_type": "execute_result"
        }
      ],
      "source": [
        "queries_files[:3]"
      ]
    },
    {
      "cell_type": "code",
      "execution_count": null,
      "id": "f7559ea7",
      "metadata": {
        "id": "f7559ea7"
      },
      "outputs": [],
      "source": [
        "queries = []\n",
        "\n",
        "for file in queries_files:\n",
        "    f = open(file)\n",
        "    queries.append(f.read())\n",
        "    f.close()"
      ]
    },
    {
      "cell_type": "code",
      "execution_count": null,
      "id": "ba0a6d27",
      "metadata": {
        "id": "ba0a6d27"
      },
      "outputs": [],
      "source": [
        "queries_split = [query.split(\"\\n\") for query in queries]"
      ]
    },
    {
      "cell_type": "code",
      "execution_count": null,
      "id": "5bee16d9",
      "metadata": {
        "id": "5bee16d9",
        "outputId": "cde2486e-e342-4988-dbc2-7dc074c6aed6"
      },
      "outputs": [
        {
          "data": {
            "text/plain": [
              "[['3', '1', '2', '8'], ['2', '7', '9'], ['3', '2', '4', '8']]"
            ]
          },
          "execution_count": 72,
          "metadata": {},
          "output_type": "execute_result"
        }
      ],
      "source": [
        "queries_split[:3]"
      ]
    },
    {
      "cell_type": "code",
      "execution_count": null,
      "id": "fb6b4c05",
      "metadata": {
        "id": "fb6b4c05"
      },
      "outputs": [],
      "source": [
        "queries_int = []\n",
        "for query in queries_split:\n",
        "    queries_int.append([int(nr) for nr in query])"
      ]
    },
    {
      "cell_type": "code",
      "execution_count": null,
      "id": "aedf0e68",
      "metadata": {
        "id": "aedf0e68",
        "outputId": "79e5e0f7-aa58-4b62-cb21-f6adb8dff637"
      },
      "outputs": [
        {
          "data": {
            "text/plain": [
              "[[3, 1, 2, 8], [2, 7, 9], [3, 2, 4, 8]]"
            ]
          },
          "execution_count": 74,
          "metadata": {},
          "output_type": "execute_result"
        }
      ],
      "source": [
        "queries_int[:3]"
      ]
    },
    {
      "cell_type": "code",
      "execution_count": null,
      "id": "5324ae5e",
      "metadata": {
        "id": "5324ae5e"
      },
      "outputs": [],
      "source": [
        "gt_files = glob.glob(\"../test/ground-truth/Task1/ground-truth/\" + \"*.txt\")"
      ]
    },
    {
      "cell_type": "code",
      "execution_count": null,
      "id": "ddb135fa",
      "metadata": {
        "id": "ddb135fa",
        "outputId": "f496166b-bace-4b73-cd6d-3b0ad463de3f"
      },
      "outputs": [
        {
          "data": {
            "text/plain": [
              "['../test/ground-truth/Task1/ground-truth\\\\01_1_gt.txt',\n",
              " '../test/ground-truth/Task1/ground-truth\\\\01_2_gt.txt',\n",
              " '../test/ground-truth/Task1/ground-truth\\\\01_3_gt.txt']"
            ]
          },
          "execution_count": 76,
          "metadata": {},
          "output_type": "execute_result"
        }
      ],
      "source": [
        "gt_files[:3]"
      ]
    },
    {
      "cell_type": "code",
      "execution_count": null,
      "id": "2c0a581e",
      "metadata": {
        "id": "2c0a581e"
      },
      "outputs": [],
      "source": [
        "gt = []\n",
        "\n",
        "for file in gt_files:\n",
        "    f = open(file)\n",
        "    gt.append(f.read())\n",
        "    f.close()"
      ]
    },
    {
      "cell_type": "code",
      "execution_count": null,
      "id": "33bbf563",
      "metadata": {
        "id": "33bbf563"
      },
      "outputs": [],
      "source": [
        "gt_split = [query.split(\"\\n\") for query in gt]"
      ]
    },
    {
      "cell_type": "code",
      "execution_count": null,
      "id": "00a428d8",
      "metadata": {
        "id": "00a428d8",
        "outputId": "ca5fa17e-4c7e-43a2-aa4e-51dad45a0d0b"
      },
      "outputs": [
        {
          "data": {
            "text/plain": [
              "[['3', '1 0', '2 0', '8 1'], ['2', '7 0', '9 0'], ['3', '2 0', '4 0', '8 1']]"
            ]
          },
          "execution_count": 86,
          "metadata": {},
          "output_type": "execute_result"
        }
      ],
      "source": [
        "gt_split[:3]"
      ]
    },
    {
      "cell_type": "code",
      "execution_count": null,
      "id": "759333ee",
      "metadata": {
        "id": "759333ee"
      },
      "outputs": [],
      "source": [
        "gt_int = []\n",
        "for i in range(len(gt_split)):\n",
        "    gt_int.append([int(nr[-1]) for nr in gt_split[i][1:]])"
      ]
    },
    {
      "cell_type": "code",
      "execution_count": null,
      "id": "397e010c",
      "metadata": {
        "id": "397e010c",
        "outputId": "630a0cb1-6311-48cc-afca-e9dccebc4f8d"
      },
      "outputs": [
        {
          "data": {
            "text/plain": [
              "[[0, 0, 1], [0, 0], [0, 0, 1]]"
            ]
          },
          "execution_count": 89,
          "metadata": {},
          "output_type": "execute_result"
        }
      ],
      "source": [
        "gt_int[:3]"
      ]
    },
    {
      "cell_type": "code",
      "execution_count": null,
      "id": "99c631d7",
      "metadata": {
        "id": "99c631d7",
        "outputId": "073ae88b-8a11-4b91-90e4-ebfcc62fee9f"
      },
      "outputs": [
        {
          "data": {
            "text/plain": [
              "\"\\nnames: {0: 'person', 1: 'bicycle', 2: 'car', 3: 'motorcycle', 4: 'airplane', 5: 'bus', 6: 'train', 7: 'truck', 8: 'boat', \\n9: 'traffic light', 10: 'fire hydrant', 11: 'stop sign', 12: 'parking meter', 13: 'bench', 14: 'bird', 15: 'cat', 16: 'dog', \\n17: 'horse', 18: 'sheep', 19: 'cow', 20: 'elephant', 21: 'bear', 22: 'zebra', 23: 'giraffe', 24: 'backpack', 25: 'umbrella', \\n26: 'handbag', 27: 'tie', 28: 'suitcase', 29: 'frisbee', 30: 'skis', 31: 'snowboard', 32: 'sports ball', 33: 'kite', \\n34: 'baseball bat', 35: 'baseball glove', 36: 'skateboard', 37: 'surfboard', 38: 'tennis racket', 39: 'bottle', 40: 'wine glass', \\n41: 'cup', 42: 'fork', 43: 'knife', 44: 'spoon', 45: 'bowl', 46: 'banana', 47: 'apple', 48: 'sandwich', 49: 'orange', \\n50: 'broccoli', 51: 'carrot', 52: 'hot dog', 53: 'pizza', 54: 'donut', 55: 'cake', 56: 'chair', 57: 'couch', 58: 'potted plant', \\n59: 'bed', 60: 'dining table', 61: 'toilet', 62: 'tv', 63: 'laptop', 64: 'mouse', 65: 'remote', 66: 'keyboard', 67: 'cell phone', \\n68: 'microwave', 69: 'oven', 70: 'toaster', 71: 'sink', 72: 'refrigerator', 73: 'book', 74: 'clock', 75: 'vase', 76: 'scissors', \\n77: 'teddy bear', 78: 'hair drier', 79: 'toothbrush'}\\n\""
            ]
          },
          "execution_count": 28,
          "metadata": {},
          "output_type": "execute_result"
        }
      ],
      "source": [
        "\"\"\"\n",
        "names: {0: 'person', 1: 'bicycle', 2: 'car', 3: 'motorcycle', 4: 'airplane', 5: 'bus', 6: 'train', 7: 'truck', 8: 'boat',\n",
        "9: 'traffic light', 10: 'fire hydrant', 11: 'stop sign', 12: 'parking meter', 13: 'bench', 14: 'bird', 15: 'cat', 16: 'dog',\n",
        "17: 'horse', 18: 'sheep', 19: 'cow', 20: 'elephant', 21: 'bear', 22: 'zebra', 23: 'giraffe', 24: 'backpack', 25: 'umbrella',\n",
        "26: 'handbag', 27: 'tie', 28: 'suitcase', 29: 'frisbee', 30: 'skis', 31: 'snowboard', 32: 'sports ball', 33: 'kite',\n",
        "34: 'baseball bat', 35: 'baseball glove', 36: 'skateboard', 37: 'surfboard', 38: 'tennis racket', 39: 'bottle', 40: 'wine glass',\n",
        "41: 'cup', 42: 'fork', 43: 'knife', 44: 'spoon', 45: 'bowl', 46: 'banana', 47: 'apple', 48: 'sandwich', 49: 'orange',\n",
        "50: 'broccoli', 51: 'carrot', 52: 'hot dog', 53: 'pizza', 54: 'donut', 55: 'cake', 56: 'chair', 57: 'couch', 58: 'potted plant',\n",
        "59: 'bed', 60: 'dining table', 61: 'toilet', 62: 'tv', 63: 'laptop', 64: 'mouse', 65: 'remote', 66: 'keyboard', 67: 'cell phone',\n",
        "68: 'microwave', 69: 'oven', 70: 'toaster', 71: 'sink', 72: 'refrigerator', 73: 'book', 74: 'clock', 75: 'vase', 76: 'scissors',\n",
        "77: 'teddy bear', 78: 'hair drier', 79: 'toothbrush'}\n",
        "\"\"\""
      ]
    },
    {
      "cell_type": "code",
      "execution_count": null,
      "id": "420ab915",
      "metadata": {
        "id": "420ab915"
      },
      "outputs": [],
      "source": [
        "right_classes = [2, 3, 5, 7]"
      ]
    },
    {
      "cell_type": "code",
      "execution_count": null,
      "id": "a1a262a0",
      "metadata": {
        "id": "a1a262a0"
      },
      "outputs": [],
      "source": [
        "color = (255, 0, 0)\n",
        "thickness = 2"
      ]
    },
    {
      "cell_type": "code",
      "execution_count": null,
      "id": "e6a8ae32",
      "metadata": {
        "id": "e6a8ae32"
      },
      "outputs": [],
      "source": [
        "from shapely.geometry import box, Polygon\n",
        "import shapely"
      ]
    },
    {
      "cell_type": "code",
      "execution_count": null,
      "id": "e14366ea",
      "metadata": {
        "id": "e14366ea",
        "outputId": "db8a6226-7227-4a73-cfe2-32110c5aa006"
      },
      "outputs": [
        {
          "data": {
            "text/plain": [
              "[3, 1, 2, 8]"
            ]
          },
          "execution_count": 95,
          "metadata": {},
          "output_type": "execute_result"
        }
      ],
      "source": [
        "queries_int[0]"
      ]
    },
    {
      "cell_type": "code",
      "execution_count": null,
      "id": "a5bf510d",
      "metadata": {
        "id": "a5bf510d",
        "outputId": "9a6030af-ff59-46cf-c590-3e0be113f059"
      },
      "outputs": [
        {
          "data": {
            "text/plain": [
              "[0, 0, 1]"
            ]
          },
          "execution_count": 96,
          "metadata": {},
          "output_type": "execute_result"
        }
      ],
      "source": [
        "gt_int[0]"
      ]
    },
    {
      "cell_type": "code",
      "execution_count": null,
      "id": "119d7bfd",
      "metadata": {
        "scrolled": true,
        "id": "119d7bfd"
      },
      "outputs": [],
      "source": [
        "answers = []\n",
        "for i in range(50):\n",
        "    img = images_train[i]\n",
        "    img_rgb = cv.cvtColor(img.astype(np.float32), cv.COLOR_BGR2RGB)\n",
        "    #pts = []\n",
        "    answer = []\n",
        "\n",
        "    results = model.predict(source=img_rgb, save=True, save_txt=True)\n",
        "    result = results[0]\n",
        "    xyxy = result.boxes.xyxy           #xmin ymin xmax ymax coordinates\n",
        "    cls = result.boxes.cls             #class number\n",
        "\n",
        "    answer = np.zeros((len(queries_int[i])-1), dtype=int)\n",
        "    for j in range(1, len(queries_int[i])):\n",
        "        for k, tensor in enumerate(xyxy):\n",
        "            xmin = tensor[0]\n",
        "            ymin = tensor[1]\n",
        "            xmax = tensor[2]\n",
        "            ymax = tensor[3]\n",
        "            bbox = box(xmin, ymin, xmax, ymax)                        #box with car/bus/motorcycle/truck\n",
        "            polygon = Polygon(dict_coord[queries_int[i][j]])          #coord of lane j\n",
        "            if int(cls[k]) in right_classes and polygon.intersection(bbox).area/bbox.area > 0.7:\n",
        "                answer[j-1] = 1\n",
        "            box_coord = []\n",
        "            box_coord.append([int(xmin), int(ymin)])\n",
        "            box_coord.append([int(xmax), int(ymin)])\n",
        "            box_coord.append([int(xmax), int(ymax)])\n",
        "            box_coord.append([int(xmin), int(ymax)])\n",
        "            box_coord = np.array(box_coord)                    #one box with x1y1 point, x2y2 point - diagonal coordinates\n",
        "            box_coord = box_coord.reshape((-1, 1, 2))\n",
        "            img_copy = img_rgb.copy()\n",
        "            img_copy = cv.polylines(img_copy.astype(int), [box_coord], True, color, thickness)\n",
        "\n",
        "    answers.append(answer)"
      ]
    },
    {
      "cell_type": "code",
      "execution_count": null,
      "id": "f89d5fe1",
      "metadata": {
        "id": "f89d5fe1"
      },
      "outputs": [],
      "source": [
        "submission_folder = \"./Stegarescu_Ana-Maria_507/Task1\""
      ]
    },
    {
      "cell_type": "code",
      "execution_count": null,
      "id": "3da1d48b",
      "metadata": {
        "id": "3da1d48b"
      },
      "outputs": [],
      "source": [
        "images_names = [query[14:18] for query in queries_files]"
      ]
    },
    {
      "cell_type": "code",
      "execution_count": null,
      "id": "5696bfab",
      "metadata": {
        "id": "5696bfab",
        "outputId": "5f652994-1fac-49b7-e46a-98591e8ded48"
      },
      "outputs": [
        {
          "data": {
            "text/plain": [
              "['01_1', '01_2', '01_3']"
            ]
          },
          "execution_count": 101,
          "metadata": {},
          "output_type": "execute_result"
        }
      ],
      "source": [
        "images_names[:3]"
      ]
    },
    {
      "cell_type": "code",
      "execution_count": null,
      "id": "b831dcf4",
      "metadata": {
        "id": "b831dcf4",
        "outputId": "f16fdf84-0930-46c9-d266-2dc6154c3414"
      },
      "outputs": [
        {
          "data": {
            "text/plain": [
              "[[3, 1, 2, 8], [2, 7, 9], [3, 2, 4, 8]]"
            ]
          },
          "execution_count": 102,
          "metadata": {},
          "output_type": "execute_result"
        }
      ],
      "source": [
        "queries_int[:3]"
      ]
    },
    {
      "cell_type": "code",
      "execution_count": null,
      "id": "5bdb3208",
      "metadata": {
        "id": "5bdb3208"
      },
      "outputs": [],
      "source": [
        "file_names = [submission_folder + \"/\" + query + \"_predicted.txt\" for query in images_names]"
      ]
    },
    {
      "cell_type": "code",
      "execution_count": null,
      "id": "4ccba459",
      "metadata": {
        "id": "4ccba459"
      },
      "outputs": [],
      "source": [
        "for i in range(50):\n",
        "    f = open(file_names[i], \"w\")\n",
        "    f.write(str(queries_int[i][0]))\n",
        "    f.write(\"\\n\")\n",
        "    for j in range(queries_int[i][0]):\n",
        "        f.write(str(queries_int[i][j]))\n",
        "        f.write(\" \")\n",
        "        f.write(str(answers[i][j]))\n",
        "        if j != queries_int[i][0] - 1:\n",
        "            f.write(\"\\n\")\n",
        "    f.close()"
      ]
    }
  ],
  "metadata": {
    "kernelspec": {
      "display_name": "general_env_39",
      "language": "python",
      "name": "general_env_39"
    },
    "language_info": {
      "codemirror_mode": {
        "name": "ipython",
        "version": 3
      },
      "file_extension": ".py",
      "mimetype": "text/x-python",
      "name": "python",
      "nbconvert_exporter": "python",
      "pygments_lexer": "ipython3",
      "version": "3.9.16"
    },
    "colab": {
      "provenance": []
    }
  },
  "nbformat": 4,
  "nbformat_minor": 5
}